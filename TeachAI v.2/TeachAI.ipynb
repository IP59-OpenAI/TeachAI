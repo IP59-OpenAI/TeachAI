{
 "cells": [
  {
   "cell_type": "markdown",
   "id": "eb9aecb1",
   "metadata": {},
   "source": [
    "# TeachAI: AI-ассистент для обучения студентов"
   ]
  },
  {
   "cell_type": "code",
   "execution_count": null,
   "id": "e008ee7b",
   "metadata": {},
   "outputs": [],
   "source": [
    "from engine import TeachAIEngine\n",
    "\n",
    "teach_ai = TeachAIEngine()\n",
    "teach_ai.start_interface()"
   ]
  }
 ],
 "metadata": {
  "kernelspec": {
   "display_name": "Python 3",
   "language": "python",
   "name": "python3"
  },
  "language_info": {
   "codemirror_mode": {
    "name": "ipython",
    "version": 3
   },
   "file_extension": ".py",
   "mimetype": "text/x-python",
   "name": "python",
   "nbconvert_exporter": "python",
   "pygments_lexer": "ipython3",
   "version": "3.13.3"
  }
 },
 "nbformat": 4,
 "nbformat_minor": 5
}
