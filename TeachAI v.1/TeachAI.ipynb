{
 "cells": [
  {
   "cell_type": "markdown",
   "id": "eb9aecb1",
   "metadata": {},
   "source": [
    "# TeachAI: AI-ассистент для обучения студентов"
   ]
  },
  {
   "cell_type": "code",
   "execution_count": null,
   "id": "e008ee7b",
   "metadata": {},
   "outputs": [],
   "source": [
    "from engine import TeachAIEngine\n",
    "\n",
    "teach_ai = TeachAIEngine()\n",
    "teach_ai.start_interface()"
   ]
  }
 ],
 "metadata": {},
 "nbformat": 4,
 "nbformat_minor": 5
}
